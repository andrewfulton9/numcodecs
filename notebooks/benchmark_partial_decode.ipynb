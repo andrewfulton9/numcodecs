{
 "cells": [
  {
   "cell_type": "code",
   "execution_count": 2,
   "metadata": {
    "autoscroll": false,
    "collapsed": false,
    "ein.hycell": false,
    "ein.tags": "worksheet-0",
    "slideshow": {
     "slide_type": "-"
    }
   },
   "outputs": [],
   "source": [
    "import sys\n",
    "from time import time\n",
    "from time import sleep\n",
    "import itertools\n",
    "\n",
    "import numpy as np\n",
    "import pandas as pd\n",
    "import seaborn as sns\n",
    "\n",
    "sys.path.append('..')\n",
    "import numcodecs\n",
    "from numcodecs.blosc import Blosc\n",
    "from numcodecs.compat import ensure_bytes, ensure_ndarray"
   ]
  },
  {
   "cell_type": "code",
   "execution_count": 3,
   "metadata": {
    "autoscroll": false,
    "collapsed": false,
    "ein.hycell": false,
    "ein.tags": "worksheet-0",
    "slideshow": {
     "slide_type": "-"
    }
   },
   "outputs": [],
   "source": [
    "def time_partial(dtype, enc, start, nitems, to_array=False):\n",
    "    start_time = time()\n",
    "    decoded = codec.decode_partial(enc, start, nitems)\n",
    "    if to_array:\n",
    "       ensure_ndarray(decoded).view(dtype)\n",
    "    stop_time = time()\n",
    "    return stop_time - start_time\n",
    "\n",
    "def time_full(dtype, enc, start, nitems, to_array=False):\n",
    "    start_time = time()\n",
    "    decoded = codec.decode(enc)\n",
    "    if to_array:\n",
    "       darr = ensure_ndarray(decoded).view(dtype)\n",
    "       darr[start:start+nitems]\n",
    "    stop_time = time()\n",
    "    return stop_time - start_time\n",
    "\n",
    "def compare(arr_size, dtype, codec, start, steps, ntimes, to_array=False):\n",
    "    arr = np.arange(arr_size, dtype=dtype)\n",
    "    enc = codec.encode(arr)\n",
    "\n",
    "    col_name = f'{arr_size}{dtype}|{str(codec)}|{to_array}'\n",
    "\n",
    "    res = []\n",
    "    dtype = arr.dtype\n",
    "    for x in range(start+1, arr.size, steps):\n",
    "        for y in range(ntimes):\n",
    "            full_eval_time = time_full(dtype, enc, start, x, to_array=to_array)\n",
    "            partial_eval_time = time_partial(dtype, enc, start, x)\n",
    "            res.append((col_name, x, y, partial_eval_time, full_eval_time))\n",
    "    df = pd.DataFrame(res, columns=['group','nitems', 'round', 'partial_decode', 'full_decode'])\n",
    "    gb = df.groupby(['group', 'nitems'], as_index=False).mean()\n",
    "    gb['percent_time'] = df.partial_decode / df.full_decode\n",
    "    gb = gb[['group', 'nitems', 'percent_time']]\n",
    "    gb['codec'] = str(codec)\n",
    "    gb['arr_size'] = arr_size\n",
    "    gb['dtype'] = str(dtype)\n",
    "    return gb\n"
   ]
  },
  {
   "cell_type": "code",
   "execution_count": 6,
   "metadata": {
    "autoscroll": false,
    "collapsed": false,
    "ein.hycell": false,
    "ein.tags": "worksheet-0",
    "slideshow": {
     "slide_type": "-"
    }
   },
   "outputs": [],
   "source": [
    "codecs2 = [\n",
    "    Blosc(shuffle=Blosc.SHUFFLE),\n",
    "    Blosc(clevel=0, shuffle=Blosc.SHUFFLE),\n",
    "    Blosc(cname='lz4', shuffle=Blosc.SHUFFLE),\n",
    "    Blosc(cname='lz4', clevel=1, shuffle=Blosc.NOSHUFFLE),\n",
    "    Blosc(cname='lz4', clevel=5, shuffle=Blosc.SHUFFLE),\n",
    "    Blosc(cname='lz4', clevel=9, shuffle=Blosc.BITSHUFFLE),\n",
    "    Blosc(cname='zlib', clevel=1, shuffle=0),\n",
    "    Blosc(cname='zstd', clevel=1, shuffle=1),\n",
    "    Blosc(cname='blosclz', clevel=1, shuffle=2),\n",
    "    Blosc(cname='snappy', clevel=1, shuffle=2),\n",
    "    Blosc(shuffle=Blosc.SHUFFLE, blocksize=0),\n",
    "    Blosc(shuffle=Blosc.SHUFFLE, blocksize=2**8),\n",
    "    Blosc(cname='lz4', clevel=1, shuffle=Blosc.NOSHUFFLE, blocksize=2**8),\n",
    "]\n",
    "arr_sizes = [10000, 50_000, 100_000]\n",
    "dtypes = ['i4', 'i8']\n",
    "encoding_sizes = [-1]\n",
    "to_arrays = [False]\n",
    "\n",
    "combos = itertools.product(codecs2, arr_sizes, dtypes, to_arrays)\n",
    "\n",
    "comparisons = []\n",
    "for codec, arr_size, dtype, to_array in combos:\n",
    "    data = compare(arr_size, dtype, codec, 0, int(arr_size/10), 1000, to_array=to_array)\n",
    "    comparisons.append(data)\n",
    "\n",
    "df = pd.concat(comparisons)"
   ]
  },
  {
   "cell_type": "markdown",
   "metadata": {
    "ein.tags": "worksheet-0",
    "slideshow": {
     "slide_type": "-"
    }
   },
   "source": [
    "The below visuals show the fraction of time that partial decompress took relative to\n",
    "a full decompress. So a value of 1 means that the partial_decode method on average took\n",
    "the same amount of time as the full decode. a value of .5 would mean that it took half\n",
    "the time. "
   ]
  },
  {
   "cell_type": "code",
   "execution_count": null,
   "metadata": {
    "autoscroll": false,
    "collapsed": false,
    "ein.hycell": false,
    "ein.tags": "worksheet-0",
    "slideshow": {
     "slide_type": "-"
    }
   },
   "outputs": [],
   "source": [
    "for codec in df.codec.unique():\n",
    "    codec = \"Blosc(cname='lz4', clevel=5, shuffle=SHUFFLE, blocksize=0)\"\n",
    "    plot = sns.relplot(x='nitems', y='percent_time', hue='dtype', col=\"arr_size\", data=df[df.codec==codec], kind=\"line\", legend='full', facet_kws=dict(sharex=False))\n",
    "    plot.fig.suptitle(codec, y=1.05)"
   ]
  }
 ],
 "metadata": {
  "kernelspec": {
   "display_name": "Python 3",
   "name": "python3"
  },
  "language_info": {
   "codemirror_mode": {
    "name": "ipython",
    "version": 3
   },
   "file_extension": ".py",
   "mimetype": "text/x-python",
   "name": "python",
   "nbconvert_exporter": "python",
   "pygments_lexer": "ipython3",
   "version": "3.8.0"
  },
  "name": "benchmark_partial_decode.ipynb"
 },
 "nbformat": 4,
 "nbformat_minor": 4
}
